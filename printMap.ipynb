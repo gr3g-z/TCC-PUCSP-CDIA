{
 "cells": [
  {
   "cell_type": "code",
   "execution_count": null,
   "metadata": {},
   "outputs": [],
   "source": [
    "import pickle"
   ]
  },
  {
   "cell_type": "code",
   "execution_count": null,
   "metadata": {},
   "outputs": [],
   "source": [
    "# Carrega o dicionário locations do arquivo pickle\n",
    "with open('C:/Users/Lucas/Documents/projetos/workplace/Projects/TCC_2024/venv/locations.pickle', 'rb') as f:\n",
    "    locations = pickle.load(f)\n",
    "\n",
    "# Agora você pode usar o dicionário locations normalmente\n",
    "print(locations)"
   ]
  },
  {
   "cell_type": "code",
   "execution_count": null,
   "metadata": {},
   "outputs": [],
   "source": [
    "import folium\n",
    "from folium.plugins import MarkerCluster"
   ]
  },
  {
   "cell_type": "code",
   "execution_count": null,
   "metadata": {},
   "outputs": [],
   "source": [
    "# Cria uma lista apenas com as coordenadas\n",
    "coordenadas_lista = [coordenadas for coordenadas in locations.values()]\n"
   ]
  },
  {
   "cell_type": "code",
   "execution_count": null,
   "metadata": {},
   "outputs": [],
   "source": [
    "# Coordenadas\n",
    "coordenadas = (45.414011377648656, -122.72571745987143)\n",
    "\n",
    "# Cria um mapa centrado na coordenada especificada\n",
    "mapa = folium.Map(location=coordenadas, zoom_start=15)\n",
    "\n",
    "# Adiciona um marcador para a coordenada\n",
    "folium.Marker(location=coordenadas, popup='Minha localização').add_to(mapa)\n",
    "\n",
    "# Salva o mapa como um arquivo HTML\n",
    "mapa.save('mapa.html')\n"
   ]
  },
  {
   "cell_type": "code",
   "execution_count": null,
   "metadata": {},
   "outputs": [],
   "source": [
    "# Cria um mapa\n",
    "mapa = folium.Map(location=[37.7749, -122.4194], zoom_start=6, tiles='CartoDB positron')\n",
    "\n",
    "# Cria um objeto MarkerCluster\n",
    "marker_cluster = MarkerCluster().add_to(mapa)\n",
    "\n",
    "# Adiciona cada ponto ao objeto MarkerCluster\n",
    "for coord in coordenadas_lista:\n",
    "    folium.Marker(location=coord).add_to(marker_cluster)\n",
    "\n",
    "# Salva o mapa como HTML\n",
    "mapa.save(\"mapas.html\")"
   ]
  },
  {
   "cell_type": "code",
   "execution_count": null,
   "metadata": {},
   "outputs": [],
   "source": [
    "from IPython.display import HTML\n",
    "\n",
    "with open('C:/Users/Lucas/Documents/projetos/workplace/Projects/TCC_2024/venv/mapas.html', 'r') as f:\n",
    "    html_content = f.read()\n",
    "HTML(html_content)"
   ]
  }
 ],
 "metadata": {
  "kernelspec": {
   "display_name": "Python 3",
   "language": "python",
   "name": "python3"
  },
  "language_info": {
   "codemirror_mode": {
    "name": "ipython",
    "version": 3
   },
   "file_extension": ".py",
   "mimetype": "text/x-python",
   "name": "python",
   "nbconvert_exporter": "python",
   "pygments_lexer": "ipython3",
   "version": "3.12.1"
  }
 },
 "nbformat": 4,
 "nbformat_minor": 2
}
